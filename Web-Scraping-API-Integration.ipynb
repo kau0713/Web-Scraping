{
 "cells": [
  {
   "cell_type": "markdown",
   "id": "18d84e8c",
   "metadata": {},
   "source": [
    "# Web-Scraping-API-Integration"
   ]
  },
  {
   "cell_type": "code",
   "execution_count": 114,
   "id": "52d15d60",
   "metadata": {},
   "outputs": [],
   "source": [
    "## Import libraries\n",
    "\n",
    "import re\n",
    "import pandas as pd\n",
    "import requests\n",
    "from bs4 import BeautifulSoup\n",
    "import ssl"
   ]
  },
  {
   "cell_type": "code",
   "execution_count": 115,
   "id": "09904d56",
   "metadata": {},
   "outputs": [],
   "source": [
    "# Chekck the ssl certificate\n",
    "ctx = ssl.create_default_context()\n",
    "ctx.check_hostname = False\n",
    "ctx.verify_mode = ssl.CERT_NONE"
   ]
  },
  {
   "cell_type": "code",
   "execution_count": 116,
   "id": "9485150b",
   "metadata": {},
   "outputs": [],
   "source": [
    "# Read the HTML\n",
    "top100_url = \"https://www.gutenberg.org/browse/scores/top\"\n",
    "response = requests.get(top100_url)"
   ]
  },
  {
   "cell_type": "code",
   "execution_count": 117,
   "id": "f5ed5d31",
   "metadata": {},
   "outputs": [
    {
     "name": "stdout",
     "output_type": "stream",
     "text": [
      "success\n"
     ]
    },
    {
     "data": {
      "text/plain": [
       "1"
      ]
     },
     "execution_count": 117,
     "metadata": {},
     "output_type": "execute_result"
    }
   ],
   "source": [
    "# Check the status of request with function \n",
    "\n",
    "def check_status(r):\n",
    "    if r.status_code == 200:\n",
    "        print(\"success\")\n",
    "        return 1\n",
    "    else:\n",
    "        print(\"failed\")\n",
    "        return -1\n",
    "\n",
    "check_status(response)"
   ]
  },
  {
   "cell_type": "code",
   "execution_count": 118,
   "id": "19306679",
   "metadata": {},
   "outputs": [],
   "source": [
    "# Decode the respsonse \n",
    "contents = response.content.decode(response.encoding)"
   ]
  },
  {
   "cell_type": "code",
   "execution_count": 119,
   "id": "8d6fbb98",
   "metadata": {},
   "outputs": [],
   "source": [
    "# Create a BeautifulSoup object\n",
    "soup = BeautifulSoup(contents,'html.parser')"
   ]
  },
  {
   "cell_type": "code",
   "execution_count": 120,
   "id": "1a415601",
   "metadata": {},
   "outputs": [],
   "source": [
    "# Create a list for all the href tags\n",
    "hrefList = []"
   ]
  },
  {
   "cell_type": "code",
   "execution_count": 121,
   "id": "3a5a6112",
   "metadata": {},
   "outputs": [
    {
     "data": {
      "text/plain": [
       "['/',\n",
       " '/about/',\n",
       " '/about/',\n",
       " '/policy/collection_development.html',\n",
       " '/about/contact_information.html',\n",
       " '/about/background/',\n",
       " '/policy/permission.html',\n",
       " '/policy/privacy_policy.html',\n",
       " '/policy/terms_of_use.html',\n",
       " '/ebooks/',\n",
       " '/ebooks/',\n",
       " '/ebooks/bookshelf/',\n",
       " '/browse/scores/top',\n",
       " '/ebooks/offline_catalogs.html',\n",
       " '/help/',\n",
       " '/help/',\n",
       " '/help/copyright.html',\n",
       " '/help/errata.html',\n",
       " '/help/file_formats.html',\n",
       " '/help/faq.html',\n",
       " '/policy/',\n",
       " '/help/public_domain_ebook_submission.html',\n",
       " '/help/submitting_your_own_work.html',\n",
       " '/help/mobile.html',\n",
       " '/attic/',\n",
       " '/donate/',\n",
       " '/donate/',\n",
       " '#books-last1',\n",
       " '#authors-last1',\n",
       " '#books-last7']"
      ]
     },
     "execution_count": 121,
     "metadata": {},
     "output_type": "execute_result"
    }
   ],
   "source": [
    "# Find all the href tags and store in the hrefList. Print the first 30 of the list\n",
    "for link in soup.find_all('a'):\n",
    "    hrefList.append(link.get('href'))\n",
    "    \n",
    "hrefList[:30]"
   ]
  },
  {
   "cell_type": "code",
   "execution_count": 122,
   "id": "4db2d932",
   "metadata": {},
   "outputs": [],
   "source": [
    "# Create a list for the book file number\n",
    "bookId = []"
   ]
  },
  {
   "cell_type": "code",
   "execution_count": 123,
   "id": "417ad3b3",
   "metadata": {},
   "outputs": [],
   "source": [
    "# Hold the file no. over the range from 33-133\n",
    "\n",
    "for i in range(33, 133):\n",
    "    link = hrefList[i]\n",
    "    link=link.strip()\n",
    "    n = re.findall('[0-9]+',link)\n",
    "    if len(n) == 1:\n",
    "        bookId.append(int(n[0]))\n",
    "    "
   ]
  },
  {
   "cell_type": "code",
   "execution_count": 146,
   "id": "202be14e",
   "metadata": {},
   "outputs": [
    {
     "name": "stdout",
     "output_type": "stream",
     "text": [
      "\n",
      "\n",
      "\n",
      "\n",
      "Top 100 | Project Gutenberg\n",
      "\n",
      "\n",
      "\n",
      "\n",
      "\n",
      "\n",
      "\n",
      "\n",
      "\n",
      "\n",
      "\n",
      "\n",
      "\n",
      "\n",
      "\n",
      "\n",
      "\n",
      "\n",
      "\n",
      "\n",
      "\n",
      "\n",
      "\n",
      "\n",
      "\n",
      "\n",
      "\n",
      "Menu▾\n",
      "\n",
      "\n",
      "\n",
      "About\n",
      "          ▾\n",
      "\n",
      "▾\n",
      "\n",
      "\n",
      "About Project Gutenberg\n",
      "Collection Development\n",
      "Contact Us\n",
      "History & Philosophy\n",
      "Permissions & License\n",
      "Privacy Policy\n",
      "Terms of Use\n",
      "\n",
      "\n",
      "\n",
      "Search and Browse\n",
      "      \t  ▾\n",
      "\n",
      "▾\n",
      "\n",
      "\n",
      "Book Search\n",
      "Bookshelves\n",
      "Frequently Downloaded\n",
      "Offline Catalogs\n",
      "\n",
      "\n",
      "\n",
      "Help\n",
      "          ▾\n",
      "\n",
      "▾\n",
      "\n",
      "\n",
      "All help topics →\n",
      "Copyright How-To\n",
      "Errata, Fixes and Bug Reports\n",
      "File Formats\n",
      "Frequently Asked Questions\n",
      "Policies →\n",
      "Public Domain eBook Submission\n",
      "Submitting Your Own Work\n",
      "Tablets, Phones and eReaders\n",
      "The Attic →\n",
      "\n",
      "\n",
      "Donate\n",
      "\n",
      "\n",
      "\n",
      "\n",
      "\n",
      "\n",
      "\n",
      "\n",
      "\n",
      "\n",
      "Donation\n",
      "\n",
      "\n",
      "\n",
      "\n",
      "\n",
      "\n",
      "\n",
      "Frequently Viewed or Downloaded\n",
      "These listings are based on the number of times each eBook gets downloaded.\n",
      "      Multiple downloads from the same Internet address on the same day count as one download, and addresses that download more than 100 eBooks in a day are considered robots and are not counted.\n",
      "\n",
      "Downloaded Books\n",
      "2023-07-28224074\n",
      "last 7 days1501104\n",
      "last 30 days5913305\n",
      "\n",
      "\n",
      "\n",
      "Top 100 EBooks yesterday\n",
      "Top 100 Authors yesterday\n",
      "Top 100 EBooks last 7 days\n",
      "Top 100 Authors last 7 days\n",
      "Top 100 EBooks last 30 days\n",
      "Top 100 Authors last 30 days\n",
      "\n",
      "\n",
      "Top 100 EBooks yesterday\n",
      "\n",
      "Romeo and Juliet by William Shakespeare (2605)\n",
      "Moby Dick; Or, The Whale by Herman Melville (2464)\n",
      "A Room with a View by E. M.  Forster (2237)\n",
      "Middlemarch by George Eliot (2198)\n",
      "Little Women; Or, Meg, Jo, Beth, and Amy by Louisa May Alcott (2102)\n",
      "The Complete Works of William Shakespeare by William Shakespeare (2007)\n",
      "The Blue Castle: a novel by L. M.  Montgomery (1984)\n",
      "The Enchanted April by Elizabeth Von Arnim (1979)\n",
      "Cranford by Elizabeth Cleghorn Gaskell (1849)\n",
      "The Adventures of Ferdinand Count Fathom — Complete by T.  Smollett (1841)\n",
      "The Expedition of Humphry Clinker by T.  Smollett (1807)\n",
      "The Adventures of Roderick Random by T.  Smollett (1785)\n",
      "Anna Karenina by graf Leo Tolstoy (1783)\n",
      "Twenty Years After by Alexandre Dumas (1750)\n",
      "History of Tom Jones, a Foundling by Henry Fielding (1736)\n",
      "My Life — Volume 1 by Richard Wagn\n"
     ]
    }
   ],
   "source": [
    "# Print the soup object text for the first 2000\n",
    "print(soup.text[:2000])"
   ]
  },
  {
   "cell_type": "code",
   "execution_count": 125,
   "id": "6d655fcc",
   "metadata": {},
   "outputs": [],
   "source": [
    "# Find the name of top 100 books via the extracted text\n",
    "# Create the list for the ebooks \n",
    "lst_titles = []"
   ]
  },
  {
   "cell_type": "code",
   "execution_count": 147,
   "id": "0f0f5001",
   "metadata": {},
   "outputs": [],
   "source": [
    "# Add the 100 books name to the list starting from the first book wtih loop\n",
    "start_idx = soup.text.splitlines().index(\"Romeo and Juliet by William Shakespeare (2605)\")\n",
    "\n",
    "for i in range(100):\n",
    "    lst_titles.append(soup.text.splitlines()[start_idx + i])\n"
   ]
  },
  {
   "cell_type": "code",
   "execution_count": 148,
   "id": "8ebc3af2",
   "metadata": {},
   "outputs": [
    {
     "name": "stdout",
     "output_type": "stream",
     "text": [
      "Romeo and Juliet by William Shakespeare \n",
      "Moby Dick\n",
      "A Room with a View by E. M.  Forster \n",
      "Middlemarch by George Eliot \n",
      "Little Women\n",
      "The Complete Works of William Shakespeare by William Shakespeare \n",
      "The Blue Castle\n",
      "The Enchanted April by Elizabeth Von Arnim \n",
      "Cranford by Elizabeth Cleghorn Gaskell \n",
      "The Adventures of Ferdinand Count Fathom \n",
      "The Expedition of Humphry Clinker by T.  Smollett \n",
      "The Adventures of Roderick Random by T.  Smollett \n",
      "Anna Karenina by graf Leo Tolstoy \n",
      "Twenty Years After by Alexandre Dumas \n",
      "History of Tom Jones\n",
      "My Life \n",
      "Pride and Prejudice by Jane Austen \n",
      "Alice's Adventures in Wonderland by Lewis Carroll \n",
      "Dead letters by Maurice Baring \n",
      "The Count of Monte Cristo\n",
      "Frankenstein\n",
      "Richard the Lion Heart by Kate Norgate \n",
      "Oliver Ellis \n",
      "A Tale of Two Cities by Charles Dickens \n",
      "Dracula by Bram Stoker \n",
      "The Adventures of Sherlock Holmes by Arthur Conan Doyle \n",
      "The House of Egremont \n",
      "The Picture of Dorian Gray by Oscar Wilde \n",
      "The Report on Unidentified Flying Objects by Edward J. Ruppelt \n",
      "The Brothers Karamazov by Fyodor Dostoyevsky \n",
      "One Hundred Proofs That the Earth Is Not a Globe by William Carpenter \n",
      "The Adventures of Tom Sawyer\n",
      "Criminality and economic conditions by Willem Adriaan Bonger \n",
      "Grimms' Fairy Tales by Jacob Grimm and Wilhelm Grimm \n",
      "A Child's History of the World by V. M.  Hillyer \n",
      "Metamorphosis by Franz Kafka \n",
      "War and Peace by graf Leo Tolstoy \n",
      "The Great Gatsby by F. Scott  Fitzgerald \n",
      "The Kama Sutra of Vatsyayana by Vatsyayana \n",
      "Crime and Punishment by Fyodor Dostoyevsky \n",
      "Ulysses by James Joyce \n",
      "The Prince by Niccol\n",
      "Adventures of Huckleberry Finn by Mark Twain \n",
      "The Romance of Lust\n",
      "The Prophet by Kahlil Gibran \n",
      "Thus Spake Zarathustra\n",
      "A Modest Proposal by Jonathan Swift \n",
      "Moby Multiple Language Lists of Common Words by Grady Ward \n",
      "Meditations by Emperor of Rome Marcus Aurelius \n",
      "Jane Eyre\n",
      "Beyond Good and Evil by Friedrich Wilhelm Nietzsche \n",
      "Dombey and Son by Charles Dickens \n",
      "A Study in Scarlet by Arthur Conan Doyle \n",
      "Great Expectations by Charles Dickens \n",
      "The Importance of Being Earnest\n",
      "The Yellow Wallpaper by Charlotte Perkins Gilman \n",
      "The Iliad by Homer \n",
      "The Strange Case of Dr. Jekyll and Mr. Hyde by Robert Louis Stevenson \n",
      "The Odyssey by Homer \n",
      "Tractatus Logico\n",
      "Calculus Made Easy by Silvanus P.  Thompson \n",
      "A Christmas Carol in Prose\n",
      "A Doll's House \n",
      "Don Quixote by Miguel de Cervantes Saavedra \n",
      "Anne of Green Gables by L. M.  Montgomery \n",
      "Wuthering Heights by Emily Bront\n",
      "Walden\n",
      "The Republic by Plato \n",
      "The Problems of Philosophy by Bertrand Russell \n",
      "The Enchiridion by Epictetus \n",
      "The slang dictionary \n",
      "Emma by Jane Austen \n",
      "Notes from the Underground by Fyodor Dostoyevsky \n",
      "The Wonderful Wizard of Oz by L. Frank  Baum \n",
      "Lexicon Latinum \n",
      "Treasure Island by Robert Louis Stevenson \n",
      "The divine comedy by Dante Alighieri \n",
      "Oliver Twist by Charles Dickens \n",
      "Little Women by Louisa May Alcott \n",
      "On the Duty of Civil Disobedience by Henry David Thoreau \n",
      "Les Mis\n",
      "The War of the Worlds by H. G.  Wells \n",
      "Winnie\n",
      "The R\n",
      "The King James Version of the Bible \n",
      "The King in Yellow by Robert W.  Chambers \n",
      "David Copperfield by Charles Dickens \n",
      "Peter Pan by J. M.  Barrie \n",
      "The Scarlet Letter by Nathaniel Hawthorne \n",
      "The Art of War by active \n",
      "Sense and Sensibility by Jane Austen \n",
      "Heart of Darkness by Joseph Conrad \n",
      "Dubliners by James Joyce \n",
      "Demonology and Devil\n",
      "Carmilla by Joseph Sheridan Le Fanu \n",
      "Josefine Mutzenbacher by Felix Salten \n",
      "The murder of Roger Ackroyd by Agatha Christie \n",
      "The Jungle Book by Rudyard Kipling \n",
      "The Mysterious Affair at Styles by Agatha Christie \n",
      "Essays of Michel de Montaigne \n"
     ]
    }
   ],
   "source": [
    "# Keep only the names of the books\n",
    "\n",
    "lst_titles_new = []\n",
    "for i in range(100):\n",
    "    id1, id2 = re.match(\"^[a-zA-Z. {'}]*\",lst_titles[i]).span()\n",
    "    lst_titles_new.append(lst_titles[i][id1:id2])\n",
    "    \n",
    "# Print the book titles\n",
    "\n",
    "for title in lst_titles_new:\n",
    "    print(title)"
   ]
  },
  {
   "cell_type": "code",
   "execution_count": null,
   "id": "92358e01",
   "metadata": {},
   "outputs": [],
   "source": []
  },
  {
   "cell_type": "code",
   "execution_count": 149,
   "id": "736a8f23",
   "metadata": {},
   "outputs": [],
   "source": [
    "# import libraries \n",
    "\n",
    "import urllib.request, urllib.parse, urllib.error\n",
    "import json\n",
    "import os"
   ]
  },
  {
   "cell_type": "code",
   "execution_count": 150,
   "id": "5ba740b8",
   "metadata": {},
   "outputs": [],
   "source": [
    "# load the API key\n",
    "with open('APIkeys.json') as f:\n",
    "    keys = json.load(f)\n",
    "    omdbapi = keys['OMDBapi']"
   ]
  },
  {
   "cell_type": "code",
   "execution_count": 151,
   "id": "01a8bcfd",
   "metadata": {},
   "outputs": [],
   "source": [
    "# Create url and apikey\n",
    "serviceurl = 'http://www.omdbapi.com/?'\n",
    "apikey = \"&apikey=\"+omdbapi"
   ]
  },
  {
   "cell_type": "code",
   "execution_count": 152,
   "id": "36f49b30",
   "metadata": {},
   "outputs": [],
   "source": [
    "# Create function print_json for the movie data \n",
    "\n",
    "def print_json(json_data):\n",
    "    list_keys=['Title', 'Year', 'Rated', 'Released', 'Runtime', 'Genre', 'Director', 'Writer', \n",
    "               'Actors', 'Plot', 'Language', 'Country', 'Awards', 'Ratings', \n",
    "               'Metascore', 'imdbRating', 'imdbVotes', 'imdbID']\n",
    "    print(\"-\"*50)\n",
    "    for k in list_keys:\n",
    "        if k in list(json_data.keys()):\n",
    "            print(f\"{k}: {json_data[k]}\")\n",
    "    print(\"-\"*50)"
   ]
  },
  {
   "cell_type": "code",
   "execution_count": 153,
   "id": "927623cc",
   "metadata": {},
   "outputs": [],
   "source": [
    "# Create function for downloading the poster of the movie     \n",
    "\n",
    "def save_poster(json_data):\n",
    "    title = json_data['Title']\n",
    "    poster_url = json_data['Poster']\n",
    "    # Splits the poster url by '.' and picks up the last string as file extension\n",
    "    poster_file_extension=poster_url.split('.')[-1]\n",
    "    # Reads the image file from web\n",
    "    poster_data = urllib.request.urlopen(poster_url).read()\n",
    "        \n",
    "    savelocation=os.getcwd()+'\\\\'+'Posters'+'\\\\'\n",
    "    # Creates new directory if the directory does not exist. Otherwise, just use the existing path.\n",
    "    if not os.path.isdir(savelocation):\n",
    "        os.mkdir(savelocation)\n",
    "    \n",
    "    filename=savelocation+str(title)+'.'+poster_file_extension\n",
    "    f=open(filename,'wb')\n",
    "    f.write(poster_data)\n",
    "    f.close()"
   ]
  },
  {
   "cell_type": "code",
   "execution_count": 154,
   "id": "f7c94a5b",
   "metadata": {},
   "outputs": [],
   "source": [
    "# Create function for searching movie by its name \n",
    "\n",
    "def search_movie(title):\n",
    "    try:\n",
    "        url = serviceurl + urllib.parse.urlencode({'t': str(title)})+apikey\n",
    "        print(f'Retrieving the data of \"{title}\" now... ')\n",
    "        print(url)\n",
    "        uh = urllib.request.urlopen(url)\n",
    "        data = uh.read()\n",
    "        json_data=json.loads(data)\n",
    "        \n",
    "        if json_data['Response']=='True':\n",
    "            print_json(json_data)\n",
    "            # Asks user whether to download the poster of the movie\n",
    "            if json_data['Poster']!='N/A':\n",
    "                save_poster(json_data)\n",
    "        else:\n",
    "            print(\"Error encountered: \",json_data['Error'])\n",
    "    \n",
    "    except urllib.error.URLError as e:\n",
    "        print(f\"ERROR: {e.reason}\")"
   ]
  },
  {
   "cell_type": "code",
   "execution_count": 155,
   "id": "84357de9",
   "metadata": {},
   "outputs": [
    {
     "name": "stdout",
     "output_type": "stream",
     "text": [
      "Retrieving the data of \"Titanic\" now... \n",
      "http://www.omdbapi.com/?t=Titanic&apikey=4c85585c\n",
      "--------------------------------------------------\n",
      "Title: Titanic\n",
      "Year: 1997\n",
      "Rated: PG-13\n",
      "Released: 19 Dec 1997\n",
      "Runtime: 194 min\n",
      "Genre: Drama, Romance\n",
      "Director: James Cameron\n",
      "Writer: James Cameron\n",
      "Actors: Leonardo DiCaprio, Kate Winslet, Billy Zane\n",
      "Plot: A seventeen-year-old aristocrat falls in love with a kind but poor artist aboard the luxurious, ill-fated R.M.S. Titanic.\n",
      "Language: English, Swedish, Italian, French\n",
      "Country: United States, Mexico\n",
      "Awards: Won 11 Oscars. 126 wins & 83 nominations total\n",
      "Ratings: [{'Source': 'Internet Movie Database', 'Value': '7.9/10'}, {'Source': 'Rotten Tomatoes', 'Value': '88%'}, {'Source': 'Metacritic', 'Value': '75/100'}]\n",
      "Metascore: 75\n",
      "imdbRating: 7.9\n",
      "imdbVotes: 1,228,124\n",
      "imdbID: tt0120338\n",
      "--------------------------------------------------\n"
     ]
    }
   ],
   "source": [
    "# Test the function with the movie Titanic\n",
    "\n",
    "search_movie(\"Titanic\")"
   ]
  },
  {
   "cell_type": "code",
   "execution_count": 156,
   "id": "4454a255",
   "metadata": {},
   "outputs": [
    {
     "name": "stdout",
     "output_type": "stream",
     "text": [
      "Retrieving the data of \"Random_error\" now... \n",
      "http://www.omdbapi.com/?t=Random_error&apikey=4c85585c\n",
      "Error encountered:  Movie not found!\n"
     ]
    }
   ],
   "source": [
    "# Test the function with \"Random_error\"\n",
    "\n",
    "search_movie(\"Random_error\")"
   ]
  },
  {
   "cell_type": "code",
   "execution_count": null,
   "id": "c20ceb1c",
   "metadata": {},
   "outputs": [],
   "source": []
  },
  {
   "cell_type": "markdown",
   "id": "315d92ac",
   "metadata": {},
   "source": [
    "# Exercise for API"
   ]
  },
  {
   "cell_type": "code",
   "execution_count": 167,
   "id": "b8462762",
   "metadata": {},
   "outputs": [],
   "source": [
    "# Using the weather.com api to pull the real time weahter data for the city portland \n",
    "# Import libraries\n",
    "\n",
    "import requests\n",
    "import json"
   ]
  },
  {
   "cell_type": "code",
   "execution_count": 168,
   "id": "fd0f1897",
   "metadata": {},
   "outputs": [],
   "source": [
    "# Define the API key and the city\n",
    "api_key = 'b09ada1b5f684437b7b114444232907'\n",
    "city = 'Portland'"
   ]
  },
  {
   "cell_type": "code",
   "execution_count": 169,
   "id": "3205ea47",
   "metadata": {},
   "outputs": [],
   "source": [
    "# Define the base URL for the API\n",
    "weather_url = f\"http://api.weatherapi.com/v1/current.json?key={api_key}&q={city}\""
   ]
  },
  {
   "cell_type": "code",
   "execution_count": 170,
   "id": "8de9e649",
   "metadata": {},
   "outputs": [
    {
     "name": "stdout",
     "output_type": "stream",
     "text": [
      "{\n",
      "    \"location\": {\n",
      "        \"name\": \"Portland\",\n",
      "        \"region\": \"Oregon\",\n",
      "        \"country\": \"United States of America\",\n",
      "        \"lat\": 45.52,\n",
      "        \"lon\": -122.68,\n",
      "        \"tz_id\": \"America/Los_Angeles\",\n",
      "        \"localtime_epoch\": 1690635801,\n",
      "        \"localtime\": \"2023-07-29 6:03\"\n",
      "    },\n",
      "    \"current\": {\n",
      "        \"last_updated_epoch\": 1690635600,\n",
      "        \"last_updated\": \"2023-07-29 06:00\",\n",
      "        \"temp_c\": 16.1,\n",
      "        \"temp_f\": 61.0,\n",
      "        \"is_day\": 1,\n",
      "        \"condition\": {\n",
      "            \"text\": \"Partly cloudy\",\n",
      "            \"icon\": \"//cdn.weatherapi.com/weather/64x64/day/116.png\",\n",
      "            \"code\": 1003\n",
      "        },\n",
      "        \"wind_mph\": 5.6,\n",
      "        \"wind_kph\": 9.0,\n",
      "        \"wind_degree\": 320,\n",
      "        \"wind_dir\": \"NW\",\n",
      "        \"pressure_mb\": 1019.0,\n",
      "        \"pressure_in\": 30.09,\n",
      "        \"precip_mm\": 0.0,\n",
      "        \"precip_in\": 0.0,\n",
      "        \"humidity\": 72,\n",
      "        \"cloud\": 25,\n",
      "        \"feelslike_c\": 16.1,\n",
      "        \"feelslike_f\": 61.0,\n",
      "        \"vis_km\": 16.0,\n",
      "        \"vis_miles\": 9.0,\n",
      "        \"uv\": 4.0,\n",
      "        \"gust_mph\": 2.5,\n",
      "        \"gust_kph\": 4.0\n",
      "    }\n",
      "}\n"
     ]
    }
   ],
   "source": [
    "# Make a GET request to the API\n",
    "response = requests.get(weather_url)\n",
    "\n",
    "# Parse the response as JSON\n",
    "weather_data = response.json()\n",
    "\n",
    "# Print the portland weather information\n",
    "print(json.dumps(weather_data, indent=4))\n"
   ]
  },
  {
   "cell_type": "markdown",
   "id": "5ea18032",
   "metadata": {},
   "source": [
    "## Exercise for Visualization \n"
   ]
  },
  {
   "cell_type": "code",
   "execution_count": 162,
   "id": "438a6019",
   "metadata": {},
   "outputs": [],
   "source": [
    "# Import libraries \n",
    "import matplotlib.pyplot as plt\n",
    "import seaborn as sns"
   ]
  },
  {
   "cell_type": "code",
   "execution_count": 163,
   "id": "28eb08ea",
   "metadata": {},
   "outputs": [
    {
     "data": {
      "text/html": [
       "<div>\n",
       "<style scoped>\n",
       "    .dataframe tbody tr th:only-of-type {\n",
       "        vertical-align: middle;\n",
       "    }\n",
       "\n",
       "    .dataframe tbody tr th {\n",
       "        vertical-align: top;\n",
       "    }\n",
       "\n",
       "    .dataframe thead th {\n",
       "        text-align: right;\n",
       "    }\n",
       "</style>\n",
       "<table border=\"1\" class=\"dataframe\">\n",
       "  <thead>\n",
       "    <tr style=\"text-align: right;\">\n",
       "      <th></th>\n",
       "      <th>User ID</th>\n",
       "      <th>Subscription Type</th>\n",
       "      <th>Monthly Revenue</th>\n",
       "      <th>Join Date</th>\n",
       "      <th>Last Payment Date</th>\n",
       "      <th>Country</th>\n",
       "      <th>Age</th>\n",
       "      <th>Gender</th>\n",
       "      <th>Device</th>\n",
       "      <th>Plan Duration</th>\n",
       "    </tr>\n",
       "  </thead>\n",
       "  <tbody>\n",
       "    <tr>\n",
       "      <th>0</th>\n",
       "      <td>1</td>\n",
       "      <td>Basic</td>\n",
       "      <td>10</td>\n",
       "      <td>15-01-22</td>\n",
       "      <td>10-06-23</td>\n",
       "      <td>United States</td>\n",
       "      <td>28</td>\n",
       "      <td>Male</td>\n",
       "      <td>Smartphone</td>\n",
       "      <td>1 Month</td>\n",
       "    </tr>\n",
       "    <tr>\n",
       "      <th>1</th>\n",
       "      <td>2</td>\n",
       "      <td>Premium</td>\n",
       "      <td>15</td>\n",
       "      <td>05-09-21</td>\n",
       "      <td>22-06-23</td>\n",
       "      <td>Canada</td>\n",
       "      <td>35</td>\n",
       "      <td>Female</td>\n",
       "      <td>Tablet</td>\n",
       "      <td>1 Month</td>\n",
       "    </tr>\n",
       "    <tr>\n",
       "      <th>2</th>\n",
       "      <td>3</td>\n",
       "      <td>Standard</td>\n",
       "      <td>12</td>\n",
       "      <td>28-02-23</td>\n",
       "      <td>27-06-23</td>\n",
       "      <td>United Kingdom</td>\n",
       "      <td>42</td>\n",
       "      <td>Male</td>\n",
       "      <td>Smart TV</td>\n",
       "      <td>1 Month</td>\n",
       "    </tr>\n",
       "    <tr>\n",
       "      <th>3</th>\n",
       "      <td>4</td>\n",
       "      <td>Standard</td>\n",
       "      <td>12</td>\n",
       "      <td>10-07-22</td>\n",
       "      <td>26-06-23</td>\n",
       "      <td>Australia</td>\n",
       "      <td>51</td>\n",
       "      <td>Female</td>\n",
       "      <td>Laptop</td>\n",
       "      <td>1 Month</td>\n",
       "    </tr>\n",
       "    <tr>\n",
       "      <th>4</th>\n",
       "      <td>5</td>\n",
       "      <td>Basic</td>\n",
       "      <td>10</td>\n",
       "      <td>01-05-23</td>\n",
       "      <td>28-06-23</td>\n",
       "      <td>Germany</td>\n",
       "      <td>33</td>\n",
       "      <td>Male</td>\n",
       "      <td>Smartphone</td>\n",
       "      <td>1 Month</td>\n",
       "    </tr>\n",
       "    <tr>\n",
       "      <th>...</th>\n",
       "      <td>...</td>\n",
       "      <td>...</td>\n",
       "      <td>...</td>\n",
       "      <td>...</td>\n",
       "      <td>...</td>\n",
       "      <td>...</td>\n",
       "      <td>...</td>\n",
       "      <td>...</td>\n",
       "      <td>...</td>\n",
       "      <td>...</td>\n",
       "    </tr>\n",
       "    <tr>\n",
       "      <th>2495</th>\n",
       "      <td>2496</td>\n",
       "      <td>Premium</td>\n",
       "      <td>14</td>\n",
       "      <td>25-07-22</td>\n",
       "      <td>12-07-23</td>\n",
       "      <td>Spain</td>\n",
       "      <td>28</td>\n",
       "      <td>Female</td>\n",
       "      <td>Smart TV</td>\n",
       "      <td>1 Month</td>\n",
       "    </tr>\n",
       "    <tr>\n",
       "      <th>2496</th>\n",
       "      <td>2497</td>\n",
       "      <td>Basic</td>\n",
       "      <td>15</td>\n",
       "      <td>04-08-22</td>\n",
       "      <td>14-07-23</td>\n",
       "      <td>Spain</td>\n",
       "      <td>33</td>\n",
       "      <td>Female</td>\n",
       "      <td>Smart TV</td>\n",
       "      <td>1 Month</td>\n",
       "    </tr>\n",
       "    <tr>\n",
       "      <th>2497</th>\n",
       "      <td>2498</td>\n",
       "      <td>Standard</td>\n",
       "      <td>12</td>\n",
       "      <td>09-08-22</td>\n",
       "      <td>15-07-23</td>\n",
       "      <td>United States</td>\n",
       "      <td>38</td>\n",
       "      <td>Male</td>\n",
       "      <td>Laptop</td>\n",
       "      <td>1 Month</td>\n",
       "    </tr>\n",
       "    <tr>\n",
       "      <th>2498</th>\n",
       "      <td>2499</td>\n",
       "      <td>Standard</td>\n",
       "      <td>13</td>\n",
       "      <td>12-08-22</td>\n",
       "      <td>12-07-23</td>\n",
       "      <td>Canada</td>\n",
       "      <td>48</td>\n",
       "      <td>Female</td>\n",
       "      <td>Tablet</td>\n",
       "      <td>1 Month</td>\n",
       "    </tr>\n",
       "    <tr>\n",
       "      <th>2499</th>\n",
       "      <td>2500</td>\n",
       "      <td>Basic</td>\n",
       "      <td>15</td>\n",
       "      <td>13-08-22</td>\n",
       "      <td>12-07-23</td>\n",
       "      <td>United States</td>\n",
       "      <td>35</td>\n",
       "      <td>Female</td>\n",
       "      <td>Smart TV</td>\n",
       "      <td>1 Month</td>\n",
       "    </tr>\n",
       "  </tbody>\n",
       "</table>\n",
       "<p>2500 rows × 10 columns</p>\n",
       "</div>"
      ],
      "text/plain": [
       "      User ID Subscription Type  Monthly Revenue Join Date Last Payment Date  \\\n",
       "0           1             Basic               10  15-01-22          10-06-23   \n",
       "1           2           Premium               15  05-09-21          22-06-23   \n",
       "2           3          Standard               12  28-02-23          27-06-23   \n",
       "3           4          Standard               12  10-07-22          26-06-23   \n",
       "4           5             Basic               10  01-05-23          28-06-23   \n",
       "...       ...               ...              ...       ...               ...   \n",
       "2495     2496           Premium               14  25-07-22          12-07-23   \n",
       "2496     2497             Basic               15  04-08-22          14-07-23   \n",
       "2497     2498          Standard               12  09-08-22          15-07-23   \n",
       "2498     2499          Standard               13  12-08-22          12-07-23   \n",
       "2499     2500             Basic               15  13-08-22          12-07-23   \n",
       "\n",
       "             Country  Age  Gender      Device Plan Duration  \n",
       "0      United States   28    Male  Smartphone       1 Month  \n",
       "1             Canada   35  Female      Tablet       1 Month  \n",
       "2     United Kingdom   42    Male    Smart TV       1 Month  \n",
       "3          Australia   51  Female      Laptop       1 Month  \n",
       "4            Germany   33    Male  Smartphone       1 Month  \n",
       "...              ...  ...     ...         ...           ...  \n",
       "2495           Spain   28  Female    Smart TV       1 Month  \n",
       "2496           Spain   33  Female    Smart TV       1 Month  \n",
       "2497   United States   38    Male      Laptop       1 Month  \n",
       "2498          Canada   48  Female      Tablet       1 Month  \n",
       "2499   United States   35  Female    Smart TV       1 Month  \n",
       "\n",
       "[2500 rows x 10 columns]"
      ]
     },
     "execution_count": 163,
     "metadata": {},
     "output_type": "execute_result"
    }
   ],
   "source": [
    "# load the data\n",
    "netflix = pd.read_csv('netflix_user.csv')\n",
    "netflix"
   ]
  },
  {
   "cell_type": "code",
   "execution_count": 164,
   "id": "79d8c3db",
   "metadata": {},
   "outputs": [
    {
     "data": {
      "image/png": "[encoded data removed]",
      "text/plain": [
       "<Figure size 640x480 with 1 Axes>"
      ]
     },
     "metadata": {},
     "output_type": "display_data"
    },
    {
     "data": {
      "text/plain": [
       "<Figure size 600x500 with 0 Axes>"
      ]
     },
     "metadata": {},
     "output_type": "display_data"
    }
   ],
   "source": [
    "# Bar Graph for the subscription Type \n",
    "sns.countplot(data=netflix,x='Subscription Type')\n",
    "plt.title('Netflix users Subscription Type')\n",
    "plt.figure(figsize=(6,5))\n",
    "plt.show()"
   ]
  },
  {
   "cell_type": "code",
   "execution_count": 165,
   "id": "22c32d14",
   "metadata": {},
   "outputs": [
    {
     "data": {
      "image/png": "[encoded data removed]",
      "text/plain": [
       "<Figure size 1000x500 with 1 Axes>"
      ]
     },
     "metadata": {},
     "output_type": "display_data"
    }
   ],
   "source": [
    "# Pie Chart for the Gender of the netflix users\n",
    "gender = netflix[\"Gender\"].value_counts()\n",
    "plt.figure(figsize=(10,5))\n",
    "plt.pie(gender, labels = gender.index, autopct='%1.1f%%')\n",
    "plt.title('Gender Distribution of Netflix Users')\n",
    "plt.show()"
   ]
  },
  {
   "cell_type": "code",
   "execution_count": 166,
   "id": "e3dcf838",
   "metadata": {},
   "outputs": [
    {
     "data": {
      "image/png": "[encoded data removed]",
      "text/plain": [
       "<Figure size 1000x600 with 1 Axes>"
      ]
     },
     "metadata": {},
     "output_type": "display_data"
    }
   ],
   "source": [
    "# Density Plot for the age of the netflix users\n",
    "plt.figure(figsize=(10,6))\n",
    "sns.kdeplot(netflix['Age'], fill=True)\n",
    "plt.title('Age Distribution of Netflix Users')\n",
    "plt.xlabel('Age')\n",
    "plt.ylabel('Density')\n",
    "plt.show()"
   ]
  },
  {
   "cell_type": "code",
   "execution_count": null,
   "id": "0716aee6",
   "metadata": {},
   "outputs": [],
   "source": []
  },
  {
   "cell_type": "code",
   "execution_count": null,
   "id": "f389cfbd",
   "metadata": {},
   "outputs": [],
   "source": []
  }
 ],
 "metadata": {
  "kernelspec": {
   "display_name": "Python 3 (ipykernel)",
   "language": "python",
   "name": "python3"
  },
  "language_info": {
   "codemirror_mode": {
    "name": "ipython",
    "version": 3
   },
   "file_extension": ".py",
   "mimetype": "text/x-python",
   "name": "python",
   "nbconvert_exporter": "python",
   "pygments_lexer": "ipython3",
   "version": "3.10.9"
  }
 },
 "nbformat": 4,
 "nbformat_minor": 5
}
