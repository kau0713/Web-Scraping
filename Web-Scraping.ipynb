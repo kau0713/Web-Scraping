{
 "cells": [
  {
   "cell_type": "markdown",
   "id": "18d84e8c",
   "metadata": {},
   "source": [
    "# Web-Scraping"
   ]
  },
  {
   "cell_type": "code",
   "execution_count": 114,
   "id": "52d15d60",
   "metadata": {},
   "outputs": [],
   "source": [
    "## Import libraries\n",
    "\n",
    "import re\n",
    "import pandas as pd\n",
    "import requests\n",
    "from bs4 import BeautifulSoup\n",
    "import ssl"
   ]
  },
  {
   "cell_type": "code",
   "execution_count": 115,
   "id": "09904d56",
   "metadata": {},
   "outputs": [],
   "source": [
    "# Chekck the ssl certificate\n",
    "ctx = ssl.create_default_context()\n",
    "ctx.check_hostname = False\n",
    "ctx.verify_mode = ssl.CERT_NONE"
   ]
  },
  {
   "cell_type": "code",
   "execution_count": 116,
   "id": "9485150b",
   "metadata": {},
   "outputs": [],
   "source": [
    "# Read the HTML\n",
    "top100_url = \"https://www.gutenberg.org/browse/scores/top\"\n",
    "response = requests.get(top100_url)"
   ]
  },
  {
   "cell_type": "code",
   "execution_count": 117,
   "id": "f5ed5d31",
   "metadata": {},
   "outputs": [
    {
     "name": "stdout",
     "output_type": "stream",
     "text": [
      "success\n"
     ]
    },
    {
     "data": {
      "text/plain": [
       "1"
      ]
     },
     "execution_count": 117,
     "metadata": {},
     "output_type": "execute_result"
    }
   ],
   "source": [
    "# Check the status of request with function \n",
    "\n",
    "def check_status(r):\n",
    "    if r.status_code == 200:\n",
    "        print(\"success\")\n",
    "        return 1\n",
    "    else:\n",
    "        print(\"failed\")\n",
    "        return -1\n",
    "\n",
    "check_status(response)"
   ]
  },
  {
   "cell_type": "code",
   "execution_count": 118,
   "id": "19306679",
   "metadata": {},
   "outputs": [],
   "source": [
    "# Decode the respsonse \n",
    "contents = response.content.decode(response.encoding)"
   ]
  },
  {
   "cell_type": "code",
   "execution_count": 119,
   "id": "8d6fbb98",
   "metadata": {},
   "outputs": [],
   "source": [
    "# Create a BeautifulSoup object\n",
    "soup = BeautifulSoup(contents,'html.parser')"
   ]
  },
  {
   "cell_type": "code",
   "execution_count": 120,
   "id": "1a415601",
   "metadata": {},
   "outputs": [],
   "source": [
    "# Create a list for all the href tags\n",
    "hrefList = []"
   ]
  },
  {
   "cell_type": "code",
   "execution_count": 121,
   "id": "3a5a6112",
   "metadata": {},
   "outputs": [
    {
     "data": {
      "text/plain": [
       "['/',\n",
       " '/about/',\n",
       " '/about/',\n",
       " '/policy/collection_development.html',\n",
       " '/about/contact_information.html',\n",
       " '/about/background/',\n",
       " '/policy/permission.html',\n",
       " '/policy/privacy_policy.html',\n",
       " '/policy/terms_of_use.html',\n",
       " '/ebooks/',\n",
       " '/ebooks/',\n",
       " '/ebooks/bookshelf/',\n",
       " '/browse/scores/top',\n",
       " '/ebooks/offline_catalogs.html',\n",
       " '/help/',\n",
       " '/help/',\n",
       " '/help/copyright.html',\n",
       " '/help/errata.html',\n",
       " '/help/file_formats.html',\n",
       " '/help/faq.html',\n",
       " '/policy/',\n",
       " '/help/public_domain_ebook_submission.html',\n",
       " '/help/submitting_your_own_work.html',\n",
       " '/help/mobile.html',\n",
       " '/attic/',\n",
       " '/donate/',\n",
       " '/donate/',\n",
       " '#books-last1',\n",
       " '#authors-last1',\n",
       " '#books-last7']"
      ]
     },
     "execution_count": 121,
     "metadata": {},
     "output_type": "execute_result"
    }
   ],
   "source": [
    "# Find all the href tags and store in the hrefList. Print the first 30 of the list\n",
    "for link in soup.find_all('a'):\n",
    "    hrefList.append(link.get('href'))\n",
    "    \n",
    "hrefList[:30]"
   ]
  },
  {
   "cell_type": "code",
   "execution_count": 122,
   "id": "4db2d932",
   "metadata": {},
   "outputs": [],
   "source": [
    "# Create a list for the book file number\n",
    "bookId = []"
   ]
  },
  {
   "cell_type": "code",
   "execution_count": 123,
   "id": "417ad3b3",
   "metadata": {},
   "outputs": [],
   "source": [
    "# Hold the file no. over the range from 33-133\n",
    "\n",
    "for i in range(33, 133):\n",
    "    link = hrefList[i]\n",
    "    link=link.strip()\n",
    "    n = re.findall('[0-9]+',link)\n",
    "    if len(n) == 1:\n",
    "        bookId.append(int(n[0]))\n",
    "    "
   ]
  },
  {
   "cell_type": "code",
   "execution_count": 146,
   "id": "202be14e",
   "metadata": {},
   "outputs": [
    {
     "name": "stdout",
     "output_type": "stream",
     "text": [
      "\n",
      "\n",
      "\n",
      "\n",
      "Top 100 | Project Gutenberg\n",
      "\n",
      "\n",
      "\n",
      "\n",
      "\n",
      "\n",
      "\n",
      "\n",
      "\n",
      "\n",
      "\n",
      "\n",
      "\n",
      "\n",
      "\n",
      "\n",
      "\n",
      "\n",
      "\n",
      "\n",
      "\n",
      "\n",
      "\n",
      "\n",
      "\n",
      "\n",
      "\n",
      "Menu▾\n",
      "\n",
      "\n",
      "\n",
      "About\n",
      "          ▾\n",
      "\n",
      "▾\n",
      "\n",
      "\n",
      "About Project Gutenberg\n",
      "Collection Development\n",
      "Contact Us\n",
      "History & Philosophy\n",
      "Permissions & License\n",
      "Privacy Policy\n",
      "Terms of Use\n",
      "\n",
      "\n",
      "\n",
      "Search and Browse\n",
      "      \t  ▾\n",
      "\n",
      "▾\n",
      "\n",
      "\n",
      "Book Search\n",
      "Bookshelves\n",
      "Frequently Downloaded\n",
      "Offline Catalogs\n",
      "\n",
      "\n",
      "\n",
      "Help\n",
      "          ▾\n",
      "\n",
      "▾\n",
      "\n",
      "\n",
      "All help topics →\n",
      "Copyright How-To\n",
      "Errata, Fixes and Bug Reports\n",
      "File Formats\n",
      "Frequently Asked Questions\n",
      "Policies →\n",
      "Public Domain eBook Submission\n",
      "Submitting Your Own Work\n",
      "Tablets, Phones and eReaders\n",
      "The Attic →\n",
      "\n",
      "\n",
      "Donate\n",
      "\n",
      "\n",
      "\n",
      "\n",
      "\n",
      "\n",
      "\n",
      "\n",
      "\n",
      "\n",
      "Donation\n",
      "\n",
      "\n",
      "\n",
      "\n",
      "\n",
      "\n",
      "\n",
      "Frequently Viewed or Downloaded\n",
      "These listings are based on the number of times each eBook gets downloaded.\n",
      "      Multiple downloads from the same Internet address on the same day count as one download, and addresses that download more than 100 eBooks in a day are considered robots and are not counted.\n",
      "\n",
      "Downloaded Books\n",
      "2023-07-28224074\n",
      "last 7 days1501104\n",
      "last 30 days5913305\n",
      "\n",
      "\n",
      "\n",
      "Top 100 EBooks yesterday\n",
      "Top 100 Authors yesterday\n",
      "Top 100 EBooks last 7 days\n",
      "Top 100 Authors last 7 days\n",
      "Top 100 EBooks last 30 days\n",
      "Top 100 Authors last 30 days\n",
      "\n",
      "\n",
      "Top 100 EBooks yesterday\n",
      "\n",
      "Romeo and Juliet by William Shakespeare (2605)\n",
      "Moby Dick; Or, The Whale by Herman Melville (2464)\n",
      "A Room with a View by E. M.  Forster (2237)\n",
      "Middlemarch by George Eliot (2198)\n",
      "Little Women; Or, Meg, Jo, Beth, and Amy by Louisa May Alcott (2102)\n",
      "The Complete Works of William Shakespeare by William Shakespeare (2007)\n",
      "The Blue Castle: a novel by L. M.  Montgomery (1984)\n",
      "The Enchanted April by Elizabeth Von Arnim (1979)\n",
      "Cranford by Elizabeth Cleghorn Gaskell (1849)\n",
      "The Adventures of Ferdinand Count Fathom — Complete by T.  Smollett (1841)\n",
      "The Expedition of Humphry Clinker by T.  Smollett (1807)\n",
      "The Adventures of Roderick Random by T.  Smollett (1785)\n",
      "Anna Karenina by graf Leo Tolstoy (1783)\n",
      "Twenty Years After by Alexandre Dumas (1750)\n",
      "History of Tom Jones, a Foundling by Henry Fielding (1736)\n",
      "My Life — Volume 1 by Richard Wagn\n"
     ]
    }
   ],
   "source": [
    "# Print the soup object text for the first 2000\n",
    "print(soup.text[:2000])"
   ]
  },
  {
   "cell_type": "code",
   "execution_count": 125,
   "id": "6d655fcc",
   "metadata": {},
   "outputs": [],
   "source": [
    "# Find the name of top 100 books via the extracted text\n",
    "# Create the list for the ebooks \n",
    "lst_titles = []"
   ]
  },
  {
   "cell_type": "code",
   "execution_count": 147,
   "id": "0f0f5001",
   "metadata": {},
   "outputs": [],
   "source": [
    "# Add the 100 books name to the list starting from the first book wtih loop\n",
    "start_idx = soup.text.splitlines().index(\"Romeo and Juliet by William Shakespeare (2605)\")\n",
    "\n",
    "for i in range(100):\n",
    "    lst_titles.append(soup.text.splitlines()[start_idx + i])\n"
   ]
  },
  {
   "cell_type": "code",
   "execution_count": 148,
   "id": "8ebc3af2",
   "metadata": {},
   "outputs": [
    {
     "name": "stdout",
     "output_type": "stream",
     "text": [
      "Romeo and Juliet by William Shakespeare \n",
      "Moby Dick\n",
      "A Room with a View by E. M.  Forster \n",
      "Middlemarch by George Eliot \n",
      "Little Women\n",
      "The Complete Works of William Shakespeare by William Shakespeare \n",
      "The Blue Castle\n",
      "The Enchanted April by Elizabeth Von Arnim \n",
      "Cranford by Elizabeth Cleghorn Gaskell \n",
      "The Adventures of Ferdinand Count Fathom \n",
      "The Expedition of Humphry Clinker by T.  Smollett \n",
      "The Adventures of Roderick Random by T.  Smollett \n",
      "Anna Karenina by graf Leo Tolstoy \n",
      "Twenty Years After by Alexandre Dumas \n",
      "History of Tom Jones\n",
      "My Life \n",
      "Pride and Prejudice by Jane Austen \n",
      "Alice's Adventures in Wonderland by Lewis Carroll \n",
      "Dead letters by Maurice Baring \n",
      "The Count of Monte Cristo\n",
      "Frankenstein\n",
      "Richard the Lion Heart by Kate Norgate \n",
      "Oliver Ellis \n",
      "A Tale of Two Cities by Charles Dickens \n",
      "Dracula by Bram Stoker \n",
      "The Adventures of Sherlock Holmes by Arthur Conan Doyle \n",
      "The House of Egremont \n",
      "The Picture of Dorian Gray by Oscar Wilde \n",
      "The Report on Unidentified Flying Objects by Edward J. Ruppelt \n",
      "The Brothers Karamazov by Fyodor Dostoyevsky \n",
      "One Hundred Proofs That the Earth Is Not a Globe by William Carpenter \n",
      "The Adventures of Tom Sawyer\n",
      "Criminality and economic conditions by Willem Adriaan Bonger \n",
      "Grimms' Fairy Tales by Jacob Grimm and Wilhelm Grimm \n",
      "A Child's History of the World by V. M.  Hillyer \n",
      "Metamorphosis by Franz Kafka \n",
      "War and Peace by graf Leo Tolstoy \n",
      "The Great Gatsby by F. Scott  Fitzgerald \n",
      "The Kama Sutra of Vatsyayana by Vatsyayana \n",
      "Crime and Punishment by Fyodor Dostoyevsky \n",
      "Ulysses by James Joyce \n",
      "The Prince by Niccol\n",
      "Adventures of Huckleberry Finn by Mark Twain \n",
      "The Romance of Lust\n",
      "The Prophet by Kahlil Gibran \n",
      "Thus Spake Zarathustra\n",
      "A Modest Proposal by Jonathan Swift \n",
      "Moby Multiple Language Lists of Common Words by Grady Ward \n",
      "Meditations by Emperor of Rome Marcus Aurelius \n",
      "Jane Eyre\n",
      "Beyond Good and Evil by Friedrich Wilhelm Nietzsche \n",
      "Dombey and Son by Charles Dickens \n",
      "A Study in Scarlet by Arthur Conan Doyle \n",
      "Great Expectations by Charles Dickens \n",
      "The Importance of Being Earnest\n",
      "The Yellow Wallpaper by Charlotte Perkins Gilman \n",
      "The Iliad by Homer \n",
      "The Strange Case of Dr. Jekyll and Mr. Hyde by Robert Louis Stevenson \n",
      "The Odyssey by Homer \n",
      "Tractatus Logico\n",
      "Calculus Made Easy by Silvanus P.  Thompson \n",
      "A Christmas Carol in Prose\n",
      "A Doll's House \n",
      "Don Quixote by Miguel de Cervantes Saavedra \n",
      "Anne of Green Gables by L. M.  Montgomery \n",
      "Wuthering Heights by Emily Bront\n",
      "Walden\n",
      "The Republic by Plato \n",
      "The Problems of Philosophy by Bertrand Russell \n",
      "The Enchiridion by Epictetus \n",
      "The slang dictionary \n",
      "Emma by Jane Austen \n",
      "Notes from the Underground by Fyodor Dostoyevsky \n",
      "The Wonderful Wizard of Oz by L. Frank  Baum \n",
      "Lexicon Latinum \n",
      "Treasure Island by Robert Louis Stevenson \n",
      "The divine comedy by Dante Alighieri \n",
      "Oliver Twist by Charles Dickens \n",
      "Little Women by Louisa May Alcott \n",
      "On the Duty of Civil Disobedience by Henry David Thoreau \n",
      "Les Mis\n",
      "The War of the Worlds by H. G.  Wells \n",
      "Winnie\n",
      "The R\n",
      "The King James Version of the Bible \n",
      "The King in Yellow by Robert W.  Chambers \n",
      "David Copperfield by Charles Dickens \n",
      "Peter Pan by J. M.  Barrie \n",
      "The Scarlet Letter by Nathaniel Hawthorne \n",
      "The Art of War by active \n",
      "Sense and Sensibility by Jane Austen \n",
      "Heart of Darkness by Joseph Conrad \n",
      "Dubliners by James Joyce \n",
      "Demonology and Devil\n",
      "Carmilla by Joseph Sheridan Le Fanu \n",
      "Josefine Mutzenbacher by Felix Salten \n",
      "The murder of Roger Ackroyd by Agatha Christie \n",
      "The Jungle Book by Rudyard Kipling \n",
      "The Mysterious Affair at Styles by Agatha Christie \n",
      "Essays of Michel de Montaigne \n"
     ]
    }
   ],
   "source": [
    "# Keep only the names of the books\n",
    "\n",
    "lst_titles_new = []\n",
    "for i in range(100):\n",
    "    id1, id2 = re.match(\"^[a-zA-Z. {'}]*\",lst_titles[i]).span()\n",
    "    lst_titles_new.append(lst_titles[i][id1:id2])\n",
    "    \n",
    "# Print the book titles\n",
    "\n",
    "for title in lst_titles_new:\n",
    "    print(title)"
   ]
  },
  {
   "cell_type": "code",
   "execution_count": null,
   "id": "92358e01",
   "metadata": {},
   "outputs": [],
   "source": []
  },
  {
   "cell_type": "code",
   "execution_count": 149,
   "id": "736a8f23",
   "metadata": {},
   "outputs": [],
   "source": [
    "# import libraries \n",
    "\n",
    "import urllib.request, urllib.parse, urllib.error\n",
    "import json\n",
    "import os"
   ]
  },
  {
   "cell_type": "code",
   "execution_count": 150,
   "id": "5ba740b8",
   "metadata": {},
   "outputs": [],
   "source": [
    "# load the API key\n",
    "with open('APIkeys.json') as f:\n",
    "    keys = json.load(f)\n",
    "    omdbapi = keys['OMDBapi']"
   ]
  },
  {
   "cell_type": "code",
   "execution_count": 151,
   "id": "01a8bcfd",
   "metadata": {},
   "outputs": [],
   "source": [
    "# Create url and apikey\n",
    "serviceurl = 'http://www.omdbapi.com/?'\n",
    "apikey = \"&apikey=\"+omdbapi"
   ]
  },
  {
   "cell_type": "code",
   "execution_count": 152,
   "id": "36f49b30",
   "metadata": {},
   "outputs": [],
   "source": [
    "# Create function print_json for the movie data \n",
    "\n",
    "def print_json(json_data):\n",
    "    list_keys=['Title', 'Year', 'Rated', 'Released', 'Runtime', 'Genre', 'Director', 'Writer', \n",
    "               'Actors', 'Plot', 'Language', 'Country', 'Awards', 'Ratings', \n",
    "               'Metascore', 'imdbRating', 'imdbVotes', 'imdbID']\n",
    "    print(\"-\"*50)\n",
    "    for k in list_keys:\n",
    "        if k in list(json_data.keys()):\n",
    "            print(f\"{k}: {json_data[k]}\")\n",
    "    print(\"-\"*50)"
   ]
  },
  {
   "cell_type": "code",
   "execution_count": 153,
   "id": "927623cc",
   "metadata": {},
   "outputs": [],
   "source": [
    "# Create function for downloading the poster of the movie     \n",
    "\n",
    "def save_poster(json_data):\n",
    "    title = json_data['Title']\n",
    "    poster_url = json_data['Poster']\n",
    "    # Splits the poster url by '.' and picks up the last string as file extension\n",
    "    poster_file_extension=poster_url.split('.')[-1]\n",
    "    # Reads the image file from web\n",
    "    poster_data = urllib.request.urlopen(poster_url).read()\n",
    "        \n",
    "    savelocation=os.getcwd()+'\\\\'+'Posters'+'\\\\'\n",
    "    # Creates new directory if the directory does not exist. Otherwise, just use the existing path.\n",
    "    if not os.path.isdir(savelocation):\n",
    "        os.mkdir(savelocation)\n",
    "    \n",
    "    filename=savelocation+str(title)+'.'+poster_file_extension\n",
    "    f=open(filename,'wb')\n",
    "    f.write(poster_data)\n",
    "    f.close()"
   ]
  },
  {
   "cell_type": "code",
   "execution_count": 154,
   "id": "f7c94a5b",
   "metadata": {},
   "outputs": [],
   "source": [
    "# Create function for searching movie by its name \n",
    "\n",
    "def search_movie(title):\n",
    "    try:\n",
    "        url = serviceurl + urllib.parse.urlencode({'t': str(title)})+apikey\n",
    "        print(f'Retrieving the data of \"{title}\" now... ')\n",
    "        print(url)\n",
    "        uh = urllib.request.urlopen(url)\n",
    "        data = uh.read()\n",
    "        json_data=json.loads(data)\n",
    "        \n",
    "        if json_data['Response']=='True':\n",
    "            print_json(json_data)\n",
    "            # Asks user whether to download the poster of the movie\n",
    "            if json_data['Poster']!='N/A':\n",
    "                save_poster(json_data)\n",
    "        else:\n",
    "            print(\"Error encountered: \",json_data['Error'])\n",
    "    \n",
    "    except urllib.error.URLError as e:\n",
    "        print(f\"ERROR: {e.reason}\")"
   ]
  },
  {
   "cell_type": "code",
   "execution_count": 155,
   "id": "84357de9",
   "metadata": {},
   "outputs": [
    {
     "name": "stdout",
     "output_type": "stream",
     "text": [
      "Retrieving the data of \"Titanic\" now... \n",
      "http://www.omdbapi.com/?t=Titanic&apikey=4c85585c\n",
      "--------------------------------------------------\n",
      "Title: Titanic\n",
      "Year: 1997\n",
      "Rated: PG-13\n",
      "Released: 19 Dec 1997\n",
      "Runtime: 194 min\n",
      "Genre: Drama, Romance\n",
      "Director: James Cameron\n",
      "Writer: James Cameron\n",
      "Actors: Leonardo DiCaprio, Kate Winslet, Billy Zane\n",
      "Plot: A seventeen-year-old aristocrat falls in love with a kind but poor artist aboard the luxurious, ill-fated R.M.S. Titanic.\n",
      "Language: English, Swedish, Italian, French\n",
      "Country: United States, Mexico\n",
      "Awards: Won 11 Oscars. 126 wins & 83 nominations total\n",
      "Ratings: [{'Source': 'Internet Movie Database', 'Value': '7.9/10'}, {'Source': 'Rotten Tomatoes', 'Value': '88%'}, {'Source': 'Metacritic', 'Value': '75/100'}]\n",
      "Metascore: 75\n",
      "imdbRating: 7.9\n",
      "imdbVotes: 1,228,124\n",
      "imdbID: tt0120338\n",
      "--------------------------------------------------\n"
     ]
    }
   ],
   "source": [
    "# Test the function with the movie Titanic\n",
    "\n",
    "search_movie(\"Titanic\")"
   ]
  },
  {
   "cell_type": "code",
   "execution_count": 156,
   "id": "4454a255",
   "metadata": {},
   "outputs": [
    {
     "name": "stdout",
     "output_type": "stream",
     "text": [
      "Retrieving the data of \"Random_error\" now... \n",
      "http://www.omdbapi.com/?t=Random_error&apikey=4c85585c\n",
      "Error encountered:  Movie not found!\n"
     ]
    }
   ],
   "source": [
    "# Test the function with \"Random_error\"\n",
    "\n",
    "search_movie(\"Random_error\")"
   ]
  }
 ],
 "metadata": {
  "kernelspec": {
   "display_name": "Python 3 (ipykernel)",
   "language": "python",
   "name": "python3"
  },
  "language_info": {
   "codemirror_mode": {
    "name": "ipython",
    "version": 3
   },
   "file_extension": ".py",
   "mimetype": "text/x-python",
   "name": "python",
   "nbconvert_exporter": "python",
   "pygments_lexer": "ipython3",
   "version": "3.10.9"
  }
 },
 "nbformat": 4,
 "nbformat_minor": 5
}
